{
 "cells": [
  {
   "cell_type": "code",
   "execution_count": null,
   "metadata": {},
   "outputs": [],
   "source": [
    "import sys\n",
    "sys.path.append('../src')\n",
    "import numpy as np\n",
    "import os\n",
    "from evaluation import load_dataset, load_results, convert_results, compute_ami_score, compute_mse_score, plot_samples"
   ]
  },
  {
   "cell_type": "code",
   "execution_count": null,
   "metadata": {
    "scrolled": true
   },
   "outputs": [],
   "source": [
    "def print_scores(folder, filename_base='result_{}.h5', num_tests=5, valid_all=True):\n",
    "    ami_list, mse_list = [], []\n",
    "    for model_id in range(num_tests):\n",
    "        results = load_results(folder, filename_base.format(model_id))\n",
    "        gamma, predictions, reconstructions = convert_results(results)\n",
    "        ami_list.append(compute_ami_score(predictions, labels_ami))\n",
    "        mse_list.append(compute_mse_score(reconstructions, labels_mse, valid_all))\n",
    "    print('AMI: {:.3f}\\tMSE: {:.2f}e-2'.format(np.mean(ami_list), np.mean(mse_list) * 1e2))\n",
    "\n",
    "def plot_results(folder, images, filename_base='result_{}.h5', num_tests=5):\n",
    "    for model_id in range(num_tests):\n",
    "        results = load_results(folder, filename_base.format(model_id))\n",
    "        gamma, _, reconstructions = convert_results(results)\n",
    "        plot_samples(images, gamma, reconstructions)\n",
    "\n",
    "folder_data = '../data'"
   ]
  },
  {
   "cell_type": "code",
   "execution_count": null,
   "metadata": {},
   "outputs": [],
   "source": [
    "# Multi-Shapes 20x20\n",
    "images, labels_ami, labels_mse = load_dataset(folder_data, 'shapes_20x20')\n",
    "state_size, updater_size = 16, 32\n",
    "folder = os.path.join('shapes_20x20', '{}_{}'.format(state_size, updater_size))\n",
    "print_scores(folder, valid_all=False)"
   ]
  },
  {
   "cell_type": "code",
   "execution_count": null,
   "metadata": {},
   "outputs": [],
   "source": [
    "# Multi-Shapes 28x28\n",
    "images, labels_ami, labels_mse = load_dataset(folder_data, 'shapes_28x28_3')\n",
    "for binary_image in [1, 0]:\n",
    "    print('Bernoulli' if binary_image else 'Gaussian')\n",
    "    for state_size, updater_size in [(16, 16), (16, 32), (32, 32), (32, 64), (64, 64)]:\n",
    "        folder = os.path.join('shapes_28x28_{}'.format(binary_image), '{}_{}'.format(state_size, updater_size))\n",
    "        print('F={}, N={}'.format(updater_size, state_size), end='\\t')\n",
    "        print_scores(folder)"
   ]
  },
  {
   "cell_type": "code",
   "execution_count": null,
   "metadata": {},
   "outputs": [],
   "source": [
    "# Multi-MNIST\n",
    "for variants in ['20', '500', 'all']:\n",
    "    print('{} Variants'.format(variants if variants != 'all' else 70000))\n",
    "    images, labels_ami, labels_mse = load_dataset(folder_data, 'mnist_{}'.format(variants))\n",
    "    for state_size, updater_size in [(16, 32), (32, 32), (32, 64), (64, 64)]:\n",
    "        folder = os.path.join('mnist_{}'.format(variants), '{}_{}'.format(state_size, updater_size))\n",
    "        print('F={}, N={}'.format(updater_size, state_size), end='\\t')\n",
    "        print_scores(folder)"
   ]
  },
  {
   "cell_type": "code",
   "execution_count": null,
   "metadata": {},
   "outputs": [],
   "source": [
    "# Generalization\n",
    "for num_objects in [2, 3, 4]:\n",
    "    print('{} Objects'.format(num_objects))\n",
    "    images, labels_ami, labels_mse = load_dataset(folder_data, 'shapes_28x28_{}'.format(num_objects))\n",
    "    state_size, updater_size = 64, 64\n",
    "    folder = os.path.join('shapes_28x28_1', '{}_{}'.format(state_size, updater_size))\n",
    "    filename_base='general_{}_result_{{}}.h5'.format(num_objects) if num_objects != 3 else 'result_{}.h5'\n",
    "    print_scores(folder, filename_base)"
   ]
  },
  {
   "cell_type": "code",
   "execution_count": null,
   "metadata": {},
   "outputs": [],
   "source": [
    "# Plot Shapes 20x20\n",
    "images, labels_ami, labels_mse = load_dataset(folder_data, 'shapes_20x20')\n",
    "state_size, updater_size = 16, 32\n",
    "folder = os.path.join('shapes_20x20', '{}_{}'.format(state_size, updater_size))\n",
    "plot_results(folder, images)"
   ]
  },
  {
   "cell_type": "code",
   "execution_count": null,
   "metadata": {},
   "outputs": [],
   "source": [
    "# Plot Shapes 28x28\n",
    "images, labels_ami, labels_mse = load_dataset(folder_data, 'shapes_28x28_3')\n",
    "state_size, updater_size = 64, 64\n",
    "folder = os.path.join('shapes_28x28_1', '{}_{}'.format(state_size, updater_size))\n",
    "plot_results(folder, images)"
   ]
  },
  {
   "cell_type": "code",
   "execution_count": null,
   "metadata": {},
   "outputs": [],
   "source": [
    "# Plot MNIST 20\n",
    "images, labels_ami, labels_mse = load_dataset(folder_data, 'mnist_20')\n",
    "state_size, updater_size = 64, 64\n",
    "folder = os.path.join('mnist_20', '{}_{}'.format(state_size, updater_size))\n",
    "plot_results(folder, images)"
   ]
  },
  {
   "cell_type": "code",
   "execution_count": null,
   "metadata": {},
   "outputs": [],
   "source": [
    "# Plot MNIST 500\n",
    "images, labels_ami, labels_mse = load_dataset(folder_data, 'mnist_500')\n",
    "state_size, updater_size = 32, 64\n",
    "folder = os.path.join('mnist_500', '{}_{}'.format(state_size, updater_size))\n",
    "plot_results(folder, images)"
   ]
  },
  {
   "cell_type": "code",
   "execution_count": null,
   "metadata": {},
   "outputs": [],
   "source": [
    "# Plot MNIST 70000\n",
    "images, labels_ami, labels_mse = load_dataset(folder_data, 'mnist_all')\n",
    "state_size, updater_size = 64, 64\n",
    "folder = os.path.join('mnist_all', '{}_{}'.format(state_size, updater_size))\n",
    "plot_results(folder, images)"
   ]
  }
 ],
 "metadata": {
  "kernelspec": {
   "display_name": "Python 3",
   "language": "python",
   "name": "python3"
  },
  "language_info": {
   "codemirror_mode": {
    "name": "ipython",
    "version": 3
   },
   "file_extension": ".py",
   "mimetype": "text/x-python",
   "name": "python",
   "nbconvert_exporter": "python",
   "pygments_lexer": "ipython3",
   "version": "3.7.2"
  }
 },
 "nbformat": 4,
 "nbformat_minor": 2
}
