{
 "cells": [
  {
   "cell_type": "code",
   "execution_count": null,
   "metadata": {},
   "outputs": [],
   "source": [
    "import sys\n",
    "sys.path.append('../src')\n",
    "import numpy as np\n",
    "import os\n",
    "from evaluation import load_dataset, load_results, compute_scores"
   ]
  },
  {
   "cell_type": "code",
   "execution_count": null,
   "metadata": {},
   "outputs": [],
   "source": [
    "def print_scores(folder_data, name_data, folder_result, filename_base='result_{}.h5', num_tests=5):\n",
    "    images, labels = load_dataset(folder_data, name_data)\n",
    "    scores_list = {key: [] for key in ['LL_M', 'LL_S', 'AMI', 'ARI', 'RMSE']}\n",
    "    for model_id in range(num_tests):\n",
    "        results = load_results(folder_result, filename_base.format(model_id))\n",
    "        scores = compute_scores(results, labels, is_ordered=False)\n",
    "        for key in scores_list:\n",
    "            if key in ['LL_M', 'LL_S']:\n",
    "                scores_list[key].append(scores[key])\n",
    "            elif key in ['RMSE']:\n",
    "                scores_list[key].append(scores[key] * 1e1)\n",
    "            else:\n",
    "                scores_list[key].append(scores[key] * 1e2)\n",
    "    scores_mean = {key: np.mean(val) for key, val in scores_list.items()}\n",
    "    scores_std = {key: np.std(val) for key, val in scores_list.items()}\n",
    "    print('LL_M:{:7.5g} {:.0e}'.format(scores_mean['LL_M'], scores_std['LL_M']), end=' ' * 3)\n",
    "    print('LL_S:{:7.5g} {:.0e}'.format(scores_mean['LL_S'], scores_std['LL_S']), end=' ' * 3)\n",
    "    print('AMI(%):{:5.3g} {:.0e}'.format(scores_mean['AMI'], scores_std['AMI']), end=' ' * 3)\n",
    "    print('ARI(%):{:5.3g} {:.0e}'.format(scores_mean['ARI'], scores_std['ARI']), end=' ' * 3)\n",
    "    print('RMSE(e-1):{:4.2g} {:.0e}'.format(scores_mean['RMSE'], scores_std['RMSE']))\n",
    "    return\n",
    "\n",
    "folder_data = '../data'"
   ]
  },
  {
   "cell_type": "code",
   "execution_count": null,
   "metadata": {},
   "outputs": [],
   "source": [
    "# Multi-Shapes\n",
    "for image_size in ['20', '28']:\n",
    "    folder_result = 'shapes_{}x{}'.format(image_size, image_size)\n",
    "    name_data = folder_result if image_size == '20' else folder_result + '_3'\n",
    "    print(folder_result)\n",
    "    print_scores(folder_data, name_data, folder_result)"
   ]
  },
  {
   "cell_type": "code",
   "execution_count": null,
   "metadata": {},
   "outputs": [],
   "source": [
    "# Multi-MNIST\n",
    "for variants in ['20', '500', 'all']:\n",
    "    folder_result = 'mnist_{}'.format(variants)\n",
    "    name_data = folder_result\n",
    "    print(folder_result)\n",
    "    print_scores(folder_data, name_data, folder_result)"
   ]
  },
  {
   "cell_type": "code",
   "execution_count": null,
   "metadata": {},
   "outputs": [],
   "source": [
    "# Generalization\n",
    "folder_result = 'shapes_28x28'\n",
    "for num_objects in [2, 3, 4]:\n",
    "    print('{} Objects'.format(num_objects))\n",
    "    name_data = '{}_{}'.format(folder_result, num_objects)\n",
    "    filename_base='general_{}_result_{{}}.h5'.format(num_objects) if num_objects != 3 else 'result_{}.h5'\n",
    "    print_scores(folder_data, name_data, folder_result, filename_base)"
   ]
  }
 ],
 "metadata": {
  "kernelspec": {
   "display_name": "Python 3",
   "language": "python",
   "name": "python3"
  },
  "language_info": {
   "codemirror_mode": {
    "name": "ipython",
    "version": 3
   },
   "file_extension": ".py",
   "mimetype": "text/x-python",
   "name": "python",
   "nbconvert_exporter": "python",
   "pygments_lexer": "ipython3",
   "version": "3.7.3"
  }
 },
 "nbformat": 4,
 "nbformat_minor": 2
}
